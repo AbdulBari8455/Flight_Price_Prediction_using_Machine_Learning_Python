{
  "nbformat": 4,
  "nbformat_minor": 0,
  "metadata": {
    "colab": {
      "name": "Wine_Quality.ipynb",
      "provenance": [],
      "collapsed_sections": []
    },
    "kernelspec": {
      "name": "python3",
      "display_name": "Python 3"
    },
    "language_info": {
      "name": "python"
    }
  },
  "cells": [
    {
      "cell_type": "code",
      "execution_count": 2,
      "metadata": {
        "id": "EKFTDLnh_j4n"
      },
      "outputs": [],
      "source": [
        "import pandas as pd\n",
        "import matplotlib.pyplot as plt\n",
        "import numpy as np\n",
        "from sklearn.metrics import accuracy_score,classification_report,plot_confusion_matrix,roc_auc_score,roc_curve,r2_score\n",
        "from sklearn.naive_bayes import GaussianNB\n",
        "from xgboost.sklearn import XGBClassifier\n",
        "from sklearn.ensemble import GradientBoostingClassifier\n",
        "from sklearn.neighbors import KNeighborsClassifier\n",
        "from sklearn.ensemble import RandomForestClassifier\n",
        "from sklearn.tree import DecisionTreeClassifier\n",
        "from sklearn.preprocessing import MinMaxScaler\n",
        "from sklearn.model_selection import cross_val_score,train_test_split\n",
        "%matplotlib inline\n",
        "import plotly.offline as py"
      ]
    },
    {
      "cell_type": "code",
      "source": [
        "data = pd.read_csv('/content/drive/MyDrive/Data-Science-ML-Capstone-Projects-master/winequality-white.csv',sep=';')"
      ],
      "metadata": {
        "id": "RY-pZMowAwa7"
      },
      "execution_count": 3,
      "outputs": []
    },
    {
      "cell_type": "code",
      "source": [
        "data.head()"
      ],
      "metadata": {
        "colab": {
          "base_uri": "https://localhost:8080/",
          "height": 267
        },
        "id": "e6ixG7PpA59Y",
        "outputId": "db09ab8b-9769-4c58-a316-f4a784969c32"
      },
      "execution_count": 4,
      "outputs": [
        {
          "output_type": "execute_result",
          "data": {
            "text/html": [
              "\n",
              "  <div id=\"df-89ed24aa-eef3-46d1-b3a0-83c487abda07\">\n",
              "    <div class=\"colab-df-container\">\n",
              "      <div>\n",
              "<style scoped>\n",
              "    .dataframe tbody tr th:only-of-type {\n",
              "        vertical-align: middle;\n",
              "    }\n",
              "\n",
              "    .dataframe tbody tr th {\n",
              "        vertical-align: top;\n",
              "    }\n",
              "\n",
              "    .dataframe thead th {\n",
              "        text-align: right;\n",
              "    }\n",
              "</style>\n",
              "<table border=\"1\" class=\"dataframe\">\n",
              "  <thead>\n",
              "    <tr style=\"text-align: right;\">\n",
              "      <th></th>\n",
              "      <th>fixed acidity</th>\n",
              "      <th>volatile acidity</th>\n",
              "      <th>citric acid</th>\n",
              "      <th>residual sugar</th>\n",
              "      <th>chlorides</th>\n",
              "      <th>free sulfur dioxide</th>\n",
              "      <th>total sulfur dioxide</th>\n",
              "      <th>density</th>\n",
              "      <th>pH</th>\n",
              "      <th>sulphates</th>\n",
              "      <th>alcohol</th>\n",
              "      <th>quality</th>\n",
              "    </tr>\n",
              "  </thead>\n",
              "  <tbody>\n",
              "    <tr>\n",
              "      <th>0</th>\n",
              "      <td>7.0</td>\n",
              "      <td>0.27</td>\n",
              "      <td>0.36</td>\n",
              "      <td>20.7</td>\n",
              "      <td>0.045</td>\n",
              "      <td>45.0</td>\n",
              "      <td>170.0</td>\n",
              "      <td>1.0010</td>\n",
              "      <td>3.00</td>\n",
              "      <td>0.45</td>\n",
              "      <td>8.8</td>\n",
              "      <td>6</td>\n",
              "    </tr>\n",
              "    <tr>\n",
              "      <th>1</th>\n",
              "      <td>6.3</td>\n",
              "      <td>0.30</td>\n",
              "      <td>0.34</td>\n",
              "      <td>1.6</td>\n",
              "      <td>0.049</td>\n",
              "      <td>14.0</td>\n",
              "      <td>132.0</td>\n",
              "      <td>0.9940</td>\n",
              "      <td>3.30</td>\n",
              "      <td>0.49</td>\n",
              "      <td>9.5</td>\n",
              "      <td>6</td>\n",
              "    </tr>\n",
              "    <tr>\n",
              "      <th>2</th>\n",
              "      <td>8.1</td>\n",
              "      <td>0.28</td>\n",
              "      <td>0.40</td>\n",
              "      <td>6.9</td>\n",
              "      <td>0.050</td>\n",
              "      <td>30.0</td>\n",
              "      <td>97.0</td>\n",
              "      <td>0.9951</td>\n",
              "      <td>3.26</td>\n",
              "      <td>0.44</td>\n",
              "      <td>10.1</td>\n",
              "      <td>6</td>\n",
              "    </tr>\n",
              "    <tr>\n",
              "      <th>3</th>\n",
              "      <td>7.2</td>\n",
              "      <td>0.23</td>\n",
              "      <td>0.32</td>\n",
              "      <td>8.5</td>\n",
              "      <td>0.058</td>\n",
              "      <td>47.0</td>\n",
              "      <td>186.0</td>\n",
              "      <td>0.9956</td>\n",
              "      <td>3.19</td>\n",
              "      <td>0.40</td>\n",
              "      <td>9.9</td>\n",
              "      <td>6</td>\n",
              "    </tr>\n",
              "    <tr>\n",
              "      <th>4</th>\n",
              "      <td>7.2</td>\n",
              "      <td>0.23</td>\n",
              "      <td>0.32</td>\n",
              "      <td>8.5</td>\n",
              "      <td>0.058</td>\n",
              "      <td>47.0</td>\n",
              "      <td>186.0</td>\n",
              "      <td>0.9956</td>\n",
              "      <td>3.19</td>\n",
              "      <td>0.40</td>\n",
              "      <td>9.9</td>\n",
              "      <td>6</td>\n",
              "    </tr>\n",
              "  </tbody>\n",
              "</table>\n",
              "</div>\n",
              "      <button class=\"colab-df-convert\" onclick=\"convertToInteractive('df-89ed24aa-eef3-46d1-b3a0-83c487abda07')\"\n",
              "              title=\"Convert this dataframe to an interactive table.\"\n",
              "              style=\"display:none;\">\n",
              "        \n",
              "  <svg xmlns=\"http://www.w3.org/2000/svg\" height=\"24px\"viewBox=\"0 0 24 24\"\n",
              "       width=\"24px\">\n",
              "    <path d=\"M0 0h24v24H0V0z\" fill=\"none\"/>\n",
              "    <path d=\"M18.56 5.44l.94 2.06.94-2.06 2.06-.94-2.06-.94-.94-2.06-.94 2.06-2.06.94zm-11 1L8.5 8.5l.94-2.06 2.06-.94-2.06-.94L8.5 2.5l-.94 2.06-2.06.94zm10 10l.94 2.06.94-2.06 2.06-.94-2.06-.94-.94-2.06-.94 2.06-2.06.94z\"/><path d=\"M17.41 7.96l-1.37-1.37c-.4-.4-.92-.59-1.43-.59-.52 0-1.04.2-1.43.59L10.3 9.45l-7.72 7.72c-.78.78-.78 2.05 0 2.83L4 21.41c.39.39.9.59 1.41.59.51 0 1.02-.2 1.41-.59l7.78-7.78 2.81-2.81c.8-.78.8-2.07 0-2.86zM5.41 20L4 18.59l7.72-7.72 1.47 1.35L5.41 20z\"/>\n",
              "  </svg>\n",
              "      </button>\n",
              "      \n",
              "  <style>\n",
              "    .colab-df-container {\n",
              "      display:flex;\n",
              "      flex-wrap:wrap;\n",
              "      gap: 12px;\n",
              "    }\n",
              "\n",
              "    .colab-df-convert {\n",
              "      background-color: #E8F0FE;\n",
              "      border: none;\n",
              "      border-radius: 50%;\n",
              "      cursor: pointer;\n",
              "      display: none;\n",
              "      fill: #1967D2;\n",
              "      height: 32px;\n",
              "      padding: 0 0 0 0;\n",
              "      width: 32px;\n",
              "    }\n",
              "\n",
              "    .colab-df-convert:hover {\n",
              "      background-color: #E2EBFA;\n",
              "      box-shadow: 0px 1px 2px rgba(60, 64, 67, 0.3), 0px 1px 3px 1px rgba(60, 64, 67, 0.15);\n",
              "      fill: #174EA6;\n",
              "    }\n",
              "\n",
              "    [theme=dark] .colab-df-convert {\n",
              "      background-color: #3B4455;\n",
              "      fill: #D2E3FC;\n",
              "    }\n",
              "\n",
              "    [theme=dark] .colab-df-convert:hover {\n",
              "      background-color: #434B5C;\n",
              "      box-shadow: 0px 1px 3px 1px rgba(0, 0, 0, 0.15);\n",
              "      filter: drop-shadow(0px 1px 2px rgba(0, 0, 0, 0.3));\n",
              "      fill: #FFFFFF;\n",
              "    }\n",
              "  </style>\n",
              "\n",
              "      <script>\n",
              "        const buttonEl =\n",
              "          document.querySelector('#df-89ed24aa-eef3-46d1-b3a0-83c487abda07 button.colab-df-convert');\n",
              "        buttonEl.style.display =\n",
              "          google.colab.kernel.accessAllowed ? 'block' : 'none';\n",
              "\n",
              "        async function convertToInteractive(key) {\n",
              "          const element = document.querySelector('#df-89ed24aa-eef3-46d1-b3a0-83c487abda07');\n",
              "          const dataTable =\n",
              "            await google.colab.kernel.invokeFunction('convertToInteractive',\n",
              "                                                     [key], {});\n",
              "          if (!dataTable) return;\n",
              "\n",
              "          const docLinkHtml = 'Like what you see? Visit the ' +\n",
              "            '<a target=\"_blank\" href=https://colab.research.google.com/notebooks/data_table.ipynb>data table notebook</a>'\n",
              "            + ' to learn more about interactive tables.';\n",
              "          element.innerHTML = '';\n",
              "          dataTable['output_type'] = 'display_data';\n",
              "          await google.colab.output.renderOutput(dataTable, element);\n",
              "          const docLink = document.createElement('div');\n",
              "          docLink.innerHTML = docLinkHtml;\n",
              "          element.appendChild(docLink);\n",
              "        }\n",
              "      </script>\n",
              "    </div>\n",
              "  </div>\n",
              "  "
            ],
            "text/plain": [
              "   fixed acidity  volatile acidity  citric acid  ...  sulphates  alcohol  quality\n",
              "0            7.0              0.27         0.36  ...       0.45      8.8        6\n",
              "1            6.3              0.30         0.34  ...       0.49      9.5        6\n",
              "2            8.1              0.28         0.40  ...       0.44     10.1        6\n",
              "3            7.2              0.23         0.32  ...       0.40      9.9        6\n",
              "4            7.2              0.23         0.32  ...       0.40      9.9        6\n",
              "\n",
              "[5 rows x 12 columns]"
            ]
          },
          "metadata": {},
          "execution_count": 4
        }
      ]
    },
    {
      "cell_type": "code",
      "source": [
        "data.shape"
      ],
      "metadata": {
        "colab": {
          "base_uri": "https://localhost:8080/"
        },
        "id": "KyIgctgNBMXh",
        "outputId": "239ba40c-dcd5-4537-eb3c-1cb62f73d3d3"
      },
      "execution_count": 5,
      "outputs": [
        {
          "output_type": "execute_result",
          "data": {
            "text/plain": [
              "(4898, 12)"
            ]
          },
          "metadata": {},
          "execution_count": 5
        }
      ]
    },
    {
      "cell_type": "code",
      "source": [
        "data.info()"
      ],
      "metadata": {
        "colab": {
          "base_uri": "https://localhost:8080/"
        },
        "id": "F9FnBofcD8pZ",
        "outputId": "9d9549bc-ebf2-43c6-eb91-7dcbe68b5cf9"
      },
      "execution_count": 6,
      "outputs": [
        {
          "output_type": "stream",
          "name": "stdout",
          "text": [
            "<class 'pandas.core.frame.DataFrame'>\n",
            "RangeIndex: 4898 entries, 0 to 4897\n",
            "Data columns (total 12 columns):\n",
            " #   Column                Non-Null Count  Dtype  \n",
            "---  ------                --------------  -----  \n",
            " 0   fixed acidity         4898 non-null   float64\n",
            " 1   volatile acidity      4898 non-null   float64\n",
            " 2   citric acid           4898 non-null   float64\n",
            " 3   residual sugar        4898 non-null   float64\n",
            " 4   chlorides             4898 non-null   float64\n",
            " 5   free sulfur dioxide   4898 non-null   float64\n",
            " 6   total sulfur dioxide  4898 non-null   float64\n",
            " 7   density               4898 non-null   float64\n",
            " 8   pH                    4898 non-null   float64\n",
            " 9   sulphates             4898 non-null   float64\n",
            " 10  alcohol               4898 non-null   float64\n",
            " 11  quality               4898 non-null   int64  \n",
            "dtypes: float64(11), int64(1)\n",
            "memory usage: 459.3 KB\n"
          ]
        }
      ]
    },
    {
      "cell_type": "markdown",
      "source": [
        "You Can See the Datatype of Each Attribute Here All are of Float Type other than quality its of int type"
      ],
      "metadata": {
        "id": "ovRiohLoECzD"
      }
    },
    {
      "cell_type": "code",
      "source": [
        "data.isnull().sum()"
      ],
      "metadata": {
        "colab": {
          "base_uri": "https://localhost:8080/"
        },
        "id": "K0hnm7z8EeoD",
        "outputId": "9fd2290a-be9b-4a26-e437-67e4fca50a71"
      },
      "execution_count": 7,
      "outputs": [
        {
          "output_type": "execute_result",
          "data": {
            "text/plain": [
              "fixed acidity           0\n",
              "volatile acidity        0\n",
              "citric acid             0\n",
              "residual sugar          0\n",
              "chlorides               0\n",
              "free sulfur dioxide     0\n",
              "total sulfur dioxide    0\n",
              "density                 0\n",
              "pH                      0\n",
              "sulphates               0\n",
              "alcohol                 0\n",
              "quality                 0\n",
              "dtype: int64"
            ]
          },
          "metadata": {},
          "execution_count": 7
        }
      ]
    },
    {
      "cell_type": "markdown",
      "source": [
        "There is No Null Value in Data."
      ],
      "metadata": {
        "id": "dlyfk9JmEzc9"
      }
    },
    {
      "cell_type": "code",
      "source": [
        "X= data.drop('quality',axis=1)\n",
        "y=data['quality']"
      ],
      "metadata": {
        "id": "gpQJ8CH3E4sP"
      },
      "execution_count": 8,
      "outputs": []
    },
    {
      "cell_type": "code",
      "source": [
        "print(X.shape)\n",
        "print(y.shape)"
      ],
      "metadata": {
        "colab": {
          "base_uri": "https://localhost:8080/"
        },
        "id": "trAasJgMFsoX",
        "outputId": "6e7f53cc-73b9-4d3a-f677-b0d7ff9fb863"
      },
      "execution_count": 9,
      "outputs": [
        {
          "output_type": "stream",
          "name": "stdout",
          "text": [
            "(4898, 11)\n",
            "(4898,)\n"
          ]
        }
      ]
    },
    {
      "cell_type": "code",
      "source": [
        "X.corr()"
      ],
      "metadata": {
        "colab": {
          "base_uri": "https://localhost:8080/",
          "height": 524
        },
        "id": "7ANyUC2-FwIt",
        "outputId": "e87c406f-1a27-427f-a836-bfde40f1642c"
      },
      "execution_count": 10,
      "outputs": [
        {
          "output_type": "execute_result",
          "data": {
            "text/html": [
              "\n",
              "  <div id=\"df-f4721f9c-dc90-4975-8907-53c6e3a3ed41\">\n",
              "    <div class=\"colab-df-container\">\n",
              "      <div>\n",
              "<style scoped>\n",
              "    .dataframe tbody tr th:only-of-type {\n",
              "        vertical-align: middle;\n",
              "    }\n",
              "\n",
              "    .dataframe tbody tr th {\n",
              "        vertical-align: top;\n",
              "    }\n",
              "\n",
              "    .dataframe thead th {\n",
              "        text-align: right;\n",
              "    }\n",
              "</style>\n",
              "<table border=\"1\" class=\"dataframe\">\n",
              "  <thead>\n",
              "    <tr style=\"text-align: right;\">\n",
              "      <th></th>\n",
              "      <th>fixed acidity</th>\n",
              "      <th>volatile acidity</th>\n",
              "      <th>citric acid</th>\n",
              "      <th>residual sugar</th>\n",
              "      <th>chlorides</th>\n",
              "      <th>free sulfur dioxide</th>\n",
              "      <th>total sulfur dioxide</th>\n",
              "      <th>density</th>\n",
              "      <th>pH</th>\n",
              "      <th>sulphates</th>\n",
              "      <th>alcohol</th>\n",
              "    </tr>\n",
              "  </thead>\n",
              "  <tbody>\n",
              "    <tr>\n",
              "      <th>fixed acidity</th>\n",
              "      <td>1.000000</td>\n",
              "      <td>-0.022697</td>\n",
              "      <td>0.289181</td>\n",
              "      <td>0.089021</td>\n",
              "      <td>0.023086</td>\n",
              "      <td>-0.049396</td>\n",
              "      <td>0.091070</td>\n",
              "      <td>0.265331</td>\n",
              "      <td>-0.425858</td>\n",
              "      <td>-0.017143</td>\n",
              "      <td>-0.120881</td>\n",
              "    </tr>\n",
              "    <tr>\n",
              "      <th>volatile acidity</th>\n",
              "      <td>-0.022697</td>\n",
              "      <td>1.000000</td>\n",
              "      <td>-0.149472</td>\n",
              "      <td>0.064286</td>\n",
              "      <td>0.070512</td>\n",
              "      <td>-0.097012</td>\n",
              "      <td>0.089261</td>\n",
              "      <td>0.027114</td>\n",
              "      <td>-0.031915</td>\n",
              "      <td>-0.035728</td>\n",
              "      <td>0.067718</td>\n",
              "    </tr>\n",
              "    <tr>\n",
              "      <th>citric acid</th>\n",
              "      <td>0.289181</td>\n",
              "      <td>-0.149472</td>\n",
              "      <td>1.000000</td>\n",
              "      <td>0.094212</td>\n",
              "      <td>0.114364</td>\n",
              "      <td>0.094077</td>\n",
              "      <td>0.121131</td>\n",
              "      <td>0.149503</td>\n",
              "      <td>-0.163748</td>\n",
              "      <td>0.062331</td>\n",
              "      <td>-0.075729</td>\n",
              "    </tr>\n",
              "    <tr>\n",
              "      <th>residual sugar</th>\n",
              "      <td>0.089021</td>\n",
              "      <td>0.064286</td>\n",
              "      <td>0.094212</td>\n",
              "      <td>1.000000</td>\n",
              "      <td>0.088685</td>\n",
              "      <td>0.299098</td>\n",
              "      <td>0.401439</td>\n",
              "      <td>0.838966</td>\n",
              "      <td>-0.194133</td>\n",
              "      <td>-0.026664</td>\n",
              "      <td>-0.450631</td>\n",
              "    </tr>\n",
              "    <tr>\n",
              "      <th>chlorides</th>\n",
              "      <td>0.023086</td>\n",
              "      <td>0.070512</td>\n",
              "      <td>0.114364</td>\n",
              "      <td>0.088685</td>\n",
              "      <td>1.000000</td>\n",
              "      <td>0.101392</td>\n",
              "      <td>0.198910</td>\n",
              "      <td>0.257211</td>\n",
              "      <td>-0.090439</td>\n",
              "      <td>0.016763</td>\n",
              "      <td>-0.360189</td>\n",
              "    </tr>\n",
              "    <tr>\n",
              "      <th>free sulfur dioxide</th>\n",
              "      <td>-0.049396</td>\n",
              "      <td>-0.097012</td>\n",
              "      <td>0.094077</td>\n",
              "      <td>0.299098</td>\n",
              "      <td>0.101392</td>\n",
              "      <td>1.000000</td>\n",
              "      <td>0.615501</td>\n",
              "      <td>0.294210</td>\n",
              "      <td>-0.000618</td>\n",
              "      <td>0.059217</td>\n",
              "      <td>-0.250104</td>\n",
              "    </tr>\n",
              "    <tr>\n",
              "      <th>total sulfur dioxide</th>\n",
              "      <td>0.091070</td>\n",
              "      <td>0.089261</td>\n",
              "      <td>0.121131</td>\n",
              "      <td>0.401439</td>\n",
              "      <td>0.198910</td>\n",
              "      <td>0.615501</td>\n",
              "      <td>1.000000</td>\n",
              "      <td>0.529881</td>\n",
              "      <td>0.002321</td>\n",
              "      <td>0.134562</td>\n",
              "      <td>-0.448892</td>\n",
              "    </tr>\n",
              "    <tr>\n",
              "      <th>density</th>\n",
              "      <td>0.265331</td>\n",
              "      <td>0.027114</td>\n",
              "      <td>0.149503</td>\n",
              "      <td>0.838966</td>\n",
              "      <td>0.257211</td>\n",
              "      <td>0.294210</td>\n",
              "      <td>0.529881</td>\n",
              "      <td>1.000000</td>\n",
              "      <td>-0.093591</td>\n",
              "      <td>0.074493</td>\n",
              "      <td>-0.780138</td>\n",
              "    </tr>\n",
              "    <tr>\n",
              "      <th>pH</th>\n",
              "      <td>-0.425858</td>\n",
              "      <td>-0.031915</td>\n",
              "      <td>-0.163748</td>\n",
              "      <td>-0.194133</td>\n",
              "      <td>-0.090439</td>\n",
              "      <td>-0.000618</td>\n",
              "      <td>0.002321</td>\n",
              "      <td>-0.093591</td>\n",
              "      <td>1.000000</td>\n",
              "      <td>0.155951</td>\n",
              "      <td>0.121432</td>\n",
              "    </tr>\n",
              "    <tr>\n",
              "      <th>sulphates</th>\n",
              "      <td>-0.017143</td>\n",
              "      <td>-0.035728</td>\n",
              "      <td>0.062331</td>\n",
              "      <td>-0.026664</td>\n",
              "      <td>0.016763</td>\n",
              "      <td>0.059217</td>\n",
              "      <td>0.134562</td>\n",
              "      <td>0.074493</td>\n",
              "      <td>0.155951</td>\n",
              "      <td>1.000000</td>\n",
              "      <td>-0.017433</td>\n",
              "    </tr>\n",
              "    <tr>\n",
              "      <th>alcohol</th>\n",
              "      <td>-0.120881</td>\n",
              "      <td>0.067718</td>\n",
              "      <td>-0.075729</td>\n",
              "      <td>-0.450631</td>\n",
              "      <td>-0.360189</td>\n",
              "      <td>-0.250104</td>\n",
              "      <td>-0.448892</td>\n",
              "      <td>-0.780138</td>\n",
              "      <td>0.121432</td>\n",
              "      <td>-0.017433</td>\n",
              "      <td>1.000000</td>\n",
              "    </tr>\n",
              "  </tbody>\n",
              "</table>\n",
              "</div>\n",
              "      <button class=\"colab-df-convert\" onclick=\"convertToInteractive('df-f4721f9c-dc90-4975-8907-53c6e3a3ed41')\"\n",
              "              title=\"Convert this dataframe to an interactive table.\"\n",
              "              style=\"display:none;\">\n",
              "        \n",
              "  <svg xmlns=\"http://www.w3.org/2000/svg\" height=\"24px\"viewBox=\"0 0 24 24\"\n",
              "       width=\"24px\">\n",
              "    <path d=\"M0 0h24v24H0V0z\" fill=\"none\"/>\n",
              "    <path d=\"M18.56 5.44l.94 2.06.94-2.06 2.06-.94-2.06-.94-.94-2.06-.94 2.06-2.06.94zm-11 1L8.5 8.5l.94-2.06 2.06-.94-2.06-.94L8.5 2.5l-.94 2.06-2.06.94zm10 10l.94 2.06.94-2.06 2.06-.94-2.06-.94-.94-2.06-.94 2.06-2.06.94z\"/><path d=\"M17.41 7.96l-1.37-1.37c-.4-.4-.92-.59-1.43-.59-.52 0-1.04.2-1.43.59L10.3 9.45l-7.72 7.72c-.78.78-.78 2.05 0 2.83L4 21.41c.39.39.9.59 1.41.59.51 0 1.02-.2 1.41-.59l7.78-7.78 2.81-2.81c.8-.78.8-2.07 0-2.86zM5.41 20L4 18.59l7.72-7.72 1.47 1.35L5.41 20z\"/>\n",
              "  </svg>\n",
              "      </button>\n",
              "      \n",
              "  <style>\n",
              "    .colab-df-container {\n",
              "      display:flex;\n",
              "      flex-wrap:wrap;\n",
              "      gap: 12px;\n",
              "    }\n",
              "\n",
              "    .colab-df-convert {\n",
              "      background-color: #E8F0FE;\n",
              "      border: none;\n",
              "      border-radius: 50%;\n",
              "      cursor: pointer;\n",
              "      display: none;\n",
              "      fill: #1967D2;\n",
              "      height: 32px;\n",
              "      padding: 0 0 0 0;\n",
              "      width: 32px;\n",
              "    }\n",
              "\n",
              "    .colab-df-convert:hover {\n",
              "      background-color: #E2EBFA;\n",
              "      box-shadow: 0px 1px 2px rgba(60, 64, 67, 0.3), 0px 1px 3px 1px rgba(60, 64, 67, 0.15);\n",
              "      fill: #174EA6;\n",
              "    }\n",
              "\n",
              "    [theme=dark] .colab-df-convert {\n",
              "      background-color: #3B4455;\n",
              "      fill: #D2E3FC;\n",
              "    }\n",
              "\n",
              "    [theme=dark] .colab-df-convert:hover {\n",
              "      background-color: #434B5C;\n",
              "      box-shadow: 0px 1px 3px 1px rgba(0, 0, 0, 0.15);\n",
              "      filter: drop-shadow(0px 1px 2px rgba(0, 0, 0, 0.3));\n",
              "      fill: #FFFFFF;\n",
              "    }\n",
              "  </style>\n",
              "\n",
              "      <script>\n",
              "        const buttonEl =\n",
              "          document.querySelector('#df-f4721f9c-dc90-4975-8907-53c6e3a3ed41 button.colab-df-convert');\n",
              "        buttonEl.style.display =\n",
              "          google.colab.kernel.accessAllowed ? 'block' : 'none';\n",
              "\n",
              "        async function convertToInteractive(key) {\n",
              "          const element = document.querySelector('#df-f4721f9c-dc90-4975-8907-53c6e3a3ed41');\n",
              "          const dataTable =\n",
              "            await google.colab.kernel.invokeFunction('convertToInteractive',\n",
              "                                                     [key], {});\n",
              "          if (!dataTable) return;\n",
              "\n",
              "          const docLinkHtml = 'Like what you see? Visit the ' +\n",
              "            '<a target=\"_blank\" href=https://colab.research.google.com/notebooks/data_table.ipynb>data table notebook</a>'\n",
              "            + ' to learn more about interactive tables.';\n",
              "          element.innerHTML = '';\n",
              "          dataTable['output_type'] = 'display_data';\n",
              "          await google.colab.output.renderOutput(dataTable, element);\n",
              "          const docLink = document.createElement('div');\n",
              "          docLink.innerHTML = docLinkHtml;\n",
              "          element.appendChild(docLink);\n",
              "        }\n",
              "      </script>\n",
              "    </div>\n",
              "  </div>\n",
              "  "
            ],
            "text/plain": [
              "                      fixed acidity  volatile acidity  ...  sulphates   alcohol\n",
              "fixed acidity              1.000000         -0.022697  ...  -0.017143 -0.120881\n",
              "volatile acidity          -0.022697          1.000000  ...  -0.035728  0.067718\n",
              "citric acid                0.289181         -0.149472  ...   0.062331 -0.075729\n",
              "residual sugar             0.089021          0.064286  ...  -0.026664 -0.450631\n",
              "chlorides                  0.023086          0.070512  ...   0.016763 -0.360189\n",
              "free sulfur dioxide       -0.049396         -0.097012  ...   0.059217 -0.250104\n",
              "total sulfur dioxide       0.091070          0.089261  ...   0.134562 -0.448892\n",
              "density                    0.265331          0.027114  ...   0.074493 -0.780138\n",
              "pH                        -0.425858         -0.031915  ...   0.155951  0.121432\n",
              "sulphates                 -0.017143         -0.035728  ...   1.000000 -0.017433\n",
              "alcohol                   -0.120881          0.067718  ...  -0.017433  1.000000\n",
              "\n",
              "[11 rows x 11 columns]"
            ]
          },
          "metadata": {},
          "execution_count": 10
        }
      ]
    },
    {
      "cell_type": "markdown",
      "source": [
        "**correlation** among the columns in the dataframe "
      ],
      "metadata": {
        "id": "SYIxzaZvF-Yk"
      }
    },
    {
      "cell_type": "code",
      "source": [
        "plt.hist(y)\n",
        "plt.xlabel('Quality Numbers')\n",
        "plt.ylabel('Total Number Of Wines')\n",
        "plt.title('frequency distribution of wine quality ')\n",
        "\n",
        "plt.show()"
      ],
      "metadata": {
        "colab": {
          "base_uri": "https://localhost:8080/",
          "height": 294
        },
        "id": "CQzWgA0BGHqD",
        "outputId": "a9d3d208-553e-4d26-d62e-aad3d5ad4b97"
      },
      "execution_count": 11,
      "outputs": [
        {
          "output_type": "display_data",
          "data": {
            "image/png": "[encoded data removed]",
            "text/plain": [
              "<Figure size 432x288 with 1 Axes>"
            ]
          },
          "metadata": {
            "needs_background": "light"
          }
        }
      ]
    },
    {
      "cell_type": "code",
      "source": [
        "y= y.replace((3,4),(0,0))\n",
        "y= y.replace((5,6),(1,1))\n",
        "y= y.replace((7,8,9),(2,2,2))"
      ],
      "metadata": {
        "id": "nFNZXcCkHKfL"
      },
      "execution_count": 12,
      "outputs": []
    },
    {
      "cell_type": "markdown",
      "source": [
        "Replacing Values to **3 Level**s. **3-4** equal to **0**.\n",
        "**5-6** equal to **1**.\n",
        "**7-9** equal to **2**"
      ],
      "metadata": {
        "id": "Z6a5D3njH2Ph"
      }
    },
    {
      "cell_type": "code",
      "source": [
        "plt.hist(y)\n",
        "plt.xlabel('Quality Numbers')\n",
        "plt.ylabel('Total Number Of Wines')\n",
        "plt.title('frequency distribution of wine quality ')\n",
        "\n",
        "plt.show()"
      ],
      "metadata": {
        "colab": {
          "base_uri": "https://localhost:8080/",
          "height": 294
        },
        "id": "8pnK3BN5HhR_",
        "outputId": "eade845c-1bdf-4d71-b5c0-9f8586dd2216"
      },
      "execution_count": 13,
      "outputs": [
        {
          "output_type": "display_data",
          "data": {
            "image/png": "[encoded data removed]",
            "text/plain": [
              "<Figure size 432x288 with 1 Axes>"
            ]
          },
          "metadata": {
            "needs_background": "light"
          }
        }
      ]
    },
    {
      "cell_type": "code",
      "source": [
        "scaler = MinMaxScaler()"
      ],
      "metadata": {
        "id": "PxWP8OWrH88Q"
      },
      "execution_count": 14,
      "outputs": []
    },
    {
      "cell_type": "code",
      "source": [
        "scaler.fit(X)\n",
        "X=scaler.transform(X)"
      ],
      "metadata": {
        "id": "O9XIyz5YJKQd"
      },
      "execution_count": 15,
      "outputs": []
    },
    {
      "cell_type": "code",
      "source": [
        "X"
      ],
      "metadata": {
        "colab": {
          "base_uri": "https://localhost:8080/"
        },
        "id": "G4a2wn3WJYvG",
        "outputId": "508ef9ec-0994-4b9e-dd92-0ac6a924d128"
      },
      "execution_count": 16,
      "outputs": [
        {
          "output_type": "execute_result",
          "data": {
            "text/plain": [
              "array([[0.30769231, 0.18627451, 0.21686747, ..., 0.25454545, 0.26744186,\n",
              "        0.12903226],\n",
              "       [0.24038462, 0.21568627, 0.20481928, ..., 0.52727273, 0.31395349,\n",
              "        0.24193548],\n",
              "       [0.41346154, 0.19607843, 0.24096386, ..., 0.49090909, 0.25581395,\n",
              "        0.33870968],\n",
              "       ...,\n",
              "       [0.25961538, 0.15686275, 0.11445783, ..., 0.24545455, 0.27906977,\n",
              "        0.22580645],\n",
              "       [0.16346154, 0.20588235, 0.18072289, ..., 0.56363636, 0.18604651,\n",
              "        0.77419355],\n",
              "       [0.21153846, 0.12745098, 0.22891566, ..., 0.49090909, 0.11627907,\n",
              "        0.61290323]])"
            ]
          },
          "metadata": {},
          "execution_count": 16
        }
      ]
    },
    {
      "cell_type": "markdown",
      "source": [
        "Data Is **Normalize** Now."
      ],
      "metadata": {
        "id": "--9IjVcyJeM0"
      }
    },
    {
      "cell_type": "code",
      "source": [
        "max_s=0\n",
        "for r_s in range(40,90):\n",
        "  X_train,X_test,y_train,y_test=train_test_split(X,y,test_size=0.2,random_state=r_s)\n",
        "  for i in range(3,15):\n",
        "    model=KNeighborsClassifier(n_neighbors=i)\n",
        "    model.fit(X_train,y_train)\n",
        "    pre=model.predict(X_test)\n",
        "    r2_sc=accuracy_score(y_test,pre)\n",
        "    if r2_sc>max_s:\n",
        "      max_s=r2_sc\n",
        "      final_State= r_s\n",
        "      final_model=i\n",
        "print()\n",
        "print()\n",
        "\n",
        "print(\"Max Score is \",max_s,\"  For Random State \",final_State,\" and model is \", final_model )"
      ],
      "metadata": {
        "colab": {
          "base_uri": "https://localhost:8080/"
        },
        "id": "qXY-BWWkJ14n",
        "outputId": "6c6468ae-9edb-47a2-caf6-b7fabd899954"
      },
      "execution_count": 17,
      "outputs": [
        {
          "output_type": "stream",
          "name": "stdout",
          "text": [
            "\n",
            "\n",
            "Max Score is  0.8183673469387756   For Random State  87  and model is  6\n"
          ]
        }
      ]
    },
    {
      "cell_type": "code",
      "source": [
        "X_train,X_test,y_train,y_test=train_test_split(X,y,test_size=0.2,random_state=87)\n",
        "model=KNeighborsClassifier(n_neighbors=6)\n",
        "model.fit(X_train,y_train)\n",
        "pre=model.predict(X_test)\n",
        "print(accuracy_score(y_test,pre))"
      ],
      "metadata": {
        "colab": {
          "base_uri": "https://localhost:8080/"
        },
        "id": "DFkCnzyPMunl",
        "outputId": "8c7020df-e958-4619-c8e8-0ee746c57538"
      },
      "execution_count": 18,
      "outputs": [
        {
          "output_type": "stream",
          "name": "stdout",
          "text": [
            "0.8183673469387756\n"
          ]
        }
      ]
    },
    {
      "cell_type": "code",
      "source": [
        "models = [DecisionTreeClassifier(),KNeighborsClassifier(),RandomForestClassifier(),GradientBoostingClassifier(),XGBClassifier()]"
      ],
      "metadata": {
        "id": "kWkpvxmlw2Ju"
      },
      "execution_count": 19,
      "outputs": []
    },
    {
      "cell_type": "markdown",
      "source": [
        "Dividing Data Into to Different Random States And Finding The **Best the best Value of K**."
      ],
      "metadata": {
        "id": "Lt9_s31ILFcB"
      }
    },
    {
      "cell_type": "code",
      "source": [
        "max_s=0\n",
        "for r_s in range(40,90):\n",
        "  X_train,X_test,y_train,y_test=train_test_split(X,y,test_size=0.2,random_state=r_s)\n",
        "  for i in models:\n",
        "    i.fit(X_train,y_train)\n",
        "    pre=i.predict(X_test)\n",
        "    r2_sc=accuracy_score(y_test,pre)\n",
        "    if r2_sc>max_s:\n",
        "      max_s=r2_sc\n",
        "      final_State= r_s\n",
        "      final_model=i\n",
        "print()\n",
        "print()\n",
        "\n",
        "print(\"Max Score is \",max_s,\"  For Random State \",final_State,\" and model is \", final_model )"
      ],
      "metadata": {
        "colab": {
          "base_uri": "https://localhost:8080/"
        },
        "id": "7H0Bbom5yC41",
        "outputId": "ef31ac6e-28a7-458e-f39d-a2098f2f4a36"
      },
      "execution_count": 20,
      "outputs": [
        {
          "output_type": "stream",
          "name": "stdout",
          "text": [
            "\n",
            "\n",
            "Max Score is  0.8714285714285714   For Random State  82  and model is  RandomForestClassifier()\n"
          ]
        }
      ]
    },
    {
      "cell_type": "code",
      "source": [
        "model =RandomForestClassifier()\n",
        "X_train,X_test,y_train,y_test=train_test_split(X,y,test_size=0.2,random_state= 82)\n",
        "model.fit(X_train,y_train)\n",
        "pre=model.predict(X_test)\n",
        "r2_sc=accuracy_score(y_test,pre)"
      ],
      "metadata": {
        "id": "p3XGNYTp_6hN"
      },
      "execution_count": 21,
      "outputs": []
    },
    {
      "cell_type": "code",
      "source": [
        "print(r2_sc)"
      ],
      "metadata": {
        "colab": {
          "base_uri": "https://localhost:8080/"
        },
        "id": "ZSTUrF2MAOsC",
        "outputId": "0bdb88cf-4699-42b8-e50a-b00399637d9e"
      },
      "execution_count": 22,
      "outputs": [
        {
          "output_type": "stream",
          "name": "stdout",
          "text": [
            "0.8612244897959184\n"
          ]
        }
      ]
    },
    {
      "cell_type": "code",
      "source": [
        "plot_confusion_matrix(model, X_test, y_test) \n",
        "plt.show()"
      ],
      "metadata": {
        "colab": {
          "base_uri": "https://localhost:8080/",
          "height": 373
        },
        "id": "4VsT7ttwLP2R",
        "outputId": "afcb6871-fffb-49dd-c76e-58dad895978c"
      },
      "execution_count": 23,
      "outputs": [
        {
          "output_type": "stream",
          "name": "stderr",
          "text": [
            "/usr/local/lib/python3.7/dist-packages/sklearn/utils/deprecation.py:87: FutureWarning:\n",
            "\n",
            "Function plot_confusion_matrix is deprecated; Function `plot_confusion_matrix` is deprecated in 1.0 and will be removed in 1.2. Use one of the class methods: ConfusionMatrixDisplay.from_predictions or ConfusionMatrixDisplay.from_estimator.\n",
            "\n"
          ]
        },
        {
          "output_type": "display_data",
          "data": {
            "image/png": "[encoded data removed]",
            "text/plain": [
              "<Figure size 432x288 with 2 Axes>"
            ]
          },
          "metadata": {
            "needs_background": "light"
          }
        }
      ]
    },
    {
      "cell_type": "markdown",
      "source": [
        "Here os The **Confusion Matrix** Of Our Data"
      ],
      "metadata": {
        "id": "hNLNjqfINZol"
      }
    },
    {
      "cell_type": "code",
      "source": [
        "from sklearn.metrics import confusion_matrix\n",
        "from sklearn.metrics import classification_report"
      ],
      "metadata": {
        "id": "DZ21JvJZNVZq"
      },
      "execution_count": 24,
      "outputs": []
    },
    {
      "cell_type": "code",
      "source": [
        "cm1 = confusion_matrix(y_test,pre)"
      ],
      "metadata": {
        "id": "q_0I7jctO4x5"
      },
      "execution_count": 25,
      "outputs": []
    },
    {
      "cell_type": "code",
      "source": [
        "cm1.shape"
      ],
      "metadata": {
        "colab": {
          "base_uri": "https://localhost:8080/"
        },
        "id": "9MLWjKP1Q3HR",
        "outputId": "fae3df50-c39e-4d3b-ece0-34722d748cab"
      },
      "execution_count": 26,
      "outputs": [
        {
          "output_type": "execute_result",
          "data": {
            "text/plain": [
              "(3, 3)"
            ]
          },
          "metadata": {},
          "execution_count": 26
        }
      ]
    },
    {
      "cell_type": "code",
      "source": [
        "print(cm1[0,0])"
      ],
      "metadata": {
        "colab": {
          "base_uri": "https://localhost:8080/"
        },
        "id": "NJy_5nk4TGBd",
        "outputId": "5891de40-64da-40f2-e8a8-1d1647a651f7"
      },
      "execution_count": 27,
      "outputs": [
        {
          "output_type": "stream",
          "name": "stdout",
          "text": [
            "7\n"
          ]
        }
      ]
    },
    {
      "cell_type": "code",
      "source": [
        "print(classification_report(y_test,pre,labels=[0,1,2]))"
      ],
      "metadata": {
        "colab": {
          "base_uri": "https://localhost:8080/"
        },
        "id": "aAaE9BYcRtAw",
        "outputId": "aff7854b-c265-41cb-8083-542e34134990"
      },
      "execution_count": null,
      "outputs": [
        {
          "output_type": "stream",
          "name": "stdout",
          "text": [
            "              precision    recall  f1-score   support\n",
            "\n",
            "           0       0.38      0.07      0.12        42\n",
            "           1       0.85      0.93      0.89       756\n",
            "           2       0.65      0.53      0.58       182\n",
            "\n",
            "    accuracy                           0.82       980\n",
            "   macro avg       0.63      0.51      0.53       980\n",
            "weighted avg       0.79      0.82      0.80       980\n",
            "\n"
          ]
        }
      ]
    },
    {
      "cell_type": "markdown",
      "source": [
        "Here Is The  **Sensitivity and Specificity** Of The Model We Train.\n",
        "recall of the positive class is also known as “sensitivity”; recall of the negative class is “specificity” In the Above Case its Recall Of Positive Class"
      ],
      "metadata": {
        "id": "ljRqFkvmPHBz"
      }
    }
  ]
}